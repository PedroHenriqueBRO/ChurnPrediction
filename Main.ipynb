{
 "cells": [
  {
   "cell_type": "markdown",
   "id": "fea97a00",
   "metadata": {},
   "source": [
    "Importações que seram usadas ao longo do projeto"
   ]
  },
  {
   "cell_type": "code",
   "execution_count": null,
   "id": "25880086",
   "metadata": {},
   "outputs": [],
   "source": [
    "import kaggle\n",
    "import pandas as pd\n",
    "import seaborn as sns \n",
    "import numpy as np\n",
    "import matplotlib.pyplot as plt\n",
    "from sklearn.pipeline import Pipeline\n",
    "import plotly.express as px\n",
    "from sklearn.metrics import accuracy_score,classification_report\n",
    "from sklearn.preprocessing import StandardScaler,OneHotEncoder,LabelEncoder,MinMaxScaler\n",
    "from sklearn.ensemble import RandomForestClassifier,GradientBoostingClassifier,AdaBoostClassifier\n",
    "from sklearn.neighbors import KNeighborsClassifier\n",
    "from sklearn.tree import DecisionTreeClassifier\n",
    "from sklearn.svm import SVC\n",
    "from sklearn.neural_network import MLPClassifier\n",
    "from sklearn.linear_model import LogisticRegression\n",
    "from imblearn.combine import SMOTEENN\n",
    "from sklearn.model_selection import train_test_split,KFold,cross_val_score\n",
    "from sklearn.compose import ColumnTransformer\n",
    "from sklearn.model_selection import GridSearchCV\n",
    "from xgboost import XGBClassifier\n",
    "from yellowbrick.classifier import ConfusionMatrix\n",
    "import warnings\n",
    "import joblib\n",
    "from sklearn.metrics import mean_absolute_error, mean_squared_error, r2_score\n",
    "from statsmodels.stats.multicomp import MultiComparison\n",
    "warnings.filterwarnings('ignore')"
   ]
  },
  {
   "cell_type": "markdown",
   "id": "061895ae",
   "metadata": {},
   "source": [
    "Utilização do kaggle API para fazer dowload da base de dados a ser usada"
   ]
  },
  {
   "cell_type": "code",
   "execution_count": null,
   "id": "0422c54c",
   "metadata": {},
   "outputs": [],
   "source": [
    "kaggle.api.dataset_download_files('blastchar/telco-customer-churn', path='data', unzip=True)"
   ]
  },
  {
   "cell_type": "code",
   "execution_count": null,
   "id": "46c443be",
   "metadata": {},
   "outputs": [],
   "source": [
    "data_set=pd.read_csv('data/WA_Fn-UseC_-Telco-Customer-Churn.csv')"
   ]
  },
  {
   "cell_type": "markdown",
   "id": "7d10c5aa",
   "metadata": {},
   "source": [
    "Visualização da base de dados"
   ]
  },
  {
   "cell_type": "code",
   "execution_count": null,
   "id": "09a4d3e2",
   "metadata": {},
   "outputs": [],
   "source": [
    "data_set"
   ]
  },
  {
   "cell_type": "markdown",
   "id": "27e8a589",
   "metadata": {},
   "source": [
    "Fiz a remoção do ID dos indivíduos pois não são relevantes para a predição"
   ]
  },
  {
   "cell_type": "code",
   "execution_count": null,
   "id": "a55f1c88",
   "metadata": {},
   "outputs": [],
   "source": [
    "data_set.drop(columns=['customerID'],axis=1,inplace=True)"
   ]
  },
  {
   "cell_type": "markdown",
   "id": "eaa1bf6c",
   "metadata": {},
   "source": [
    "Depois de visualizar as colunas e informações que a base de dados passa , vamos agora aprofundar mais"
   ]
  },
  {
   "cell_type": "code",
   "execution_count": null,
   "id": "25b1cd58",
   "metadata": {},
   "outputs": [],
   "source": [
    "data_set.info()"
   ]
  },
  {
   "cell_type": "code",
   "execution_count": null,
   "id": "6683daa4",
   "metadata": {},
   "outputs": [],
   "source": [
    "data_set.describe()"
   ]
  },
  {
   "cell_type": "markdown",
   "id": "c3e31645",
   "metadata": {},
   "source": [
    "Visualizar se há valores nulos"
   ]
  },
  {
   "cell_type": "code",
   "execution_count": null,
   "id": "d7e102ce",
   "metadata": {},
   "outputs": [],
   "source": [
    "data_set.isnull().sum()"
   ]
  },
  {
   "cell_type": "markdown",
   "id": "7b78c644",
   "metadata": {},
   "source": [
    "Podemos ver que não há valores nulos , logo podemos ir adiante"
   ]
  },
  {
   "cell_type": "markdown",
   "id": "5355bc58",
   "metadata": {},
   "source": [
    "A coluna TotalChagers deveria ser do valor float mas está em object , logo mudarei para float"
   ]
  },
  {
   "cell_type": "code",
   "execution_count": null,
   "id": "18757fbe",
   "metadata": {},
   "outputs": [],
   "source": [
    "data_set.loc[data_set['TotalCharges']==' ','TotalCharges']='1000000000'"
   ]
  },
  {
   "cell_type": "code",
   "execution_count": null,
   "id": "9743058b",
   "metadata": {},
   "outputs": [],
   "source": [
    "data_set['TotalCharges']=data_set['TotalCharges'].astype(float)"
   ]
  },
  {
   "cell_type": "code",
   "execution_count": null,
   "id": "23f0b839",
   "metadata": {},
   "outputs": [],
   "source": [
    "media=data_set.loc[data_set['TotalCharges']!=1000000000,'TotalCharges'].mean()"
   ]
  },
  {
   "cell_type": "code",
   "execution_count": null,
   "id": "be6b31ff",
   "metadata": {},
   "outputs": [],
   "source": [
    "data_set.loc[data_set['TotalCharges']==1000000000,'TotalCharges']=media"
   ]
  },
  {
   "cell_type": "code",
   "execution_count": null,
   "id": "fcb7672a",
   "metadata": {},
   "outputs": [],
   "source": [
    "data_set['TotalCharges'].mean()"
   ]
  },
  {
   "cell_type": "markdown",
   "id": "4e095df1",
   "metadata": {},
   "source": [
    "O tratamento sobre Total Charges agora está feito"
   ]
  },
  {
   "cell_type": "code",
   "execution_count": null,
   "id": "a9f062ba",
   "metadata": {},
   "outputs": [],
   "source": [
    "data_set"
   ]
  },
  {
   "cell_type": "code",
   "execution_count": null,
   "id": "c8f3b5e4",
   "metadata": {},
   "outputs": [],
   "source": [
    "data_set.info()"
   ]
  },
  {
   "cell_type": "code",
   "execution_count": null,
   "id": "6bae7cfc",
   "metadata": {},
   "outputs": [],
   "source": [
    "for i,column in zip(range(0,len(data_set.columns)),data_set.columns):\n",
    "    print(i,data_set[column].unique())"
   ]
  },
  {
   "cell_type": "code",
   "execution_count": null,
   "id": "311b7b4f",
   "metadata": {},
   "outputs": [],
   "source": [
    "fig,axis=plt.subplots(2,2,figsize=(10,8))\n",
    "sns.countplot(ax=axis[0][0],x=data_set.iloc[:,1],hue=data_set['Churn'])\n",
    "sns.countplot(ax=axis[0][1],x=data_set.iloc[:,2],hue=data_set['Churn'])\n",
    "sns.countplot(ax=axis[1][0],x=data_set.iloc[:,3],hue=data_set['Churn'])\n",
    "sns.countplot(ax=axis[1][1],x=data_set.iloc[:,5],hue=data_set['Churn'])\n",
    "fig.show()"
   ]
  },
  {
   "cell_type": "code",
   "execution_count": null,
   "id": "cf9b4562",
   "metadata": {},
   "outputs": [],
   "source": [
    "fig,axis=plt.subplots(2,2,figsize=(10,8))\n",
    "sns.countplot(ax=axis[0][0],x=data_set.iloc[:,6],hue=data_set['Churn'])\n",
    "sns.countplot(ax=axis[0][1],x=data_set.iloc[:,7],hue=data_set['Churn'])\n",
    "sns.countplot(ax=axis[1][0],x=data_set.iloc[:,8],hue=data_set['Churn'])\n",
    "sns.countplot(ax=axis[1][1],x=data_set.iloc[:,9],hue=data_set['Churn'])\n",
    "fig.show()"
   ]
  },
  {
   "cell_type": "code",
   "execution_count": null,
   "id": "16b6316f",
   "metadata": {},
   "outputs": [],
   "source": [
    "fig,axis=plt.subplots(2,2,figsize=(10,8))\n",
    "sns.countplot(ax=axis[0][0],x=data_set.iloc[:,10],hue=data_set['Churn'])\n",
    "sns.countplot(ax=axis[0][1],x=data_set.iloc[:,11],hue=data_set['Churn'])\n",
    "sns.countplot(ax=axis[1][0],x=data_set.iloc[:,12],hue=data_set['Churn'])\n",
    "sns.countplot(ax=axis[1][1],x=data_set.iloc[:,13],hue=data_set['Churn'])\n",
    "fig.show()"
   ]
  },
  {
   "cell_type": "code",
   "execution_count": null,
   "id": "e558018f",
   "metadata": {},
   "outputs": [],
   "source": [
    "fig,axis=plt.subplots(1,2,figsize=(10,8))\n",
    "sns.countplot(ax=axis[0],x=data_set.iloc[:,14],hue=data_set['Churn'])\n",
    "sns.countplot(ax=axis[1],x=data_set.iloc[:,15],hue=data_set['Churn'])\n",
    "fig.show()"
   ]
  },
  {
   "cell_type": "code",
   "execution_count": null,
   "id": "8e362bcd",
   "metadata": {},
   "outputs": [],
   "source": [
    "fig=plt.figure(figsize=(10,8))\n",
    "sns.countplot(x=data_set.iloc[:,16],hue=data_set['Churn'])\n",
    "fig.show()"
   ]
  },
  {
   "cell_type": "markdown",
   "id": "8850bc1a",
   "metadata": {},
   "source": [
    "Pelos gráficos é visto que não há uma distribuição tão desigual que vale a pena tratar algo em relação a essas colunas , por exemplo se alguma delas tivesse 2 ou 3 valores unicos mas 1 só deles sobressaisse 99% em relação aos outros dois poderia ser uma opção retirar essa coluna"
   ]
  },
  {
   "cell_type": "markdown",
   "id": "be6688ef",
   "metadata": {},
   "source": [
    "Além disso esses gráficos são de muita importâncias pois vemos as categorias que mais possuem churn dentro de uma variável categórica , percebendo que há serviços, formas de pagamentos , tempo de contrato e outros fatores que possuem uma categoria que sobressaem o churn em relação as outras, assim a empresa poderia focar nessas variáveis para evitar que haja tanto churn"
   ]
  },
  {
   "cell_type": "markdown",
   "id": "ffabd753",
   "metadata": {},
   "source": [
    "Agora visualizaremos os dados numericos"
   ]
  },
  {
   "cell_type": "code",
   "execution_count": null,
   "id": "41994528",
   "metadata": {},
   "outputs": [],
   "source": [
    "px.box(data_set,y='tenure')"
   ]
  },
  {
   "cell_type": "code",
   "execution_count": null,
   "id": "e2417e1f",
   "metadata": {},
   "outputs": [],
   "source": [
    "px.box(data_set,y='MonthlyCharges')"
   ]
  },
  {
   "cell_type": "code",
   "execution_count": null,
   "id": "56dbe5e0",
   "metadata": {},
   "outputs": [],
   "source": [
    "px.box(data_set,y='TotalCharges')"
   ]
  },
  {
   "cell_type": "code",
   "execution_count": null,
   "id": "6579a264",
   "metadata": {},
   "outputs": [],
   "source": [
    "px.scatter(data_set,y='tenure')"
   ]
  },
  {
   "cell_type": "code",
   "execution_count": null,
   "id": "fde1da22",
   "metadata": {},
   "outputs": [],
   "source": [
    "px.scatter(data_set,y='MonthlyCharges')"
   ]
  },
  {
   "cell_type": "code",
   "execution_count": null,
   "id": "ad509757",
   "metadata": {},
   "outputs": [],
   "source": [
    "px.scatter(data_set,y='TotalCharges')"
   ]
  },
  {
   "cell_type": "code",
   "execution_count": null,
   "id": "64f59dca",
   "metadata": {},
   "outputs": [],
   "source": [
    "px.histogram(data_set,x='TotalCharges')"
   ]
  },
  {
   "cell_type": "code",
   "execution_count": null,
   "id": "c3819a13",
   "metadata": {},
   "outputs": [],
   "source": [
    "fig=plt.figure(figsize=(10,8))\n",
    "sns.countplot(data_set,x='Churn')\n",
    "fig.show()"
   ]
  },
  {
   "cell_type": "markdown",
   "id": "90ee3706",
   "metadata": {},
   "source": [
    "Não existem valores muito exorbitantes que possam ser considerados outliers , logo acaba que não há necessidade de tratar outliers nessa base de dados , e acabou que \n",
    "utilizaremos ela somente sem o ID "
   ]
  },
  {
   "cell_type": "markdown",
   "id": "59a37098",
   "metadata": {},
   "source": [
    "Para essa base de dados utilizaremos undersampling e oversampling(Misturando os dois é uma técnica chamada Smoteen) para comparar com o teste utilizando a base original, pois pelo gráfico podemos ver que há uma classe majoritária que é a 'No' logo os modelos podem ficar muito bons em prever valor para No e ficar ruins para Yes. "
   ]
  },
  {
   "cell_type": "code",
   "execution_count": null,
   "id": "bad53637",
   "metadata": {},
   "outputs": [],
   "source": [
    "X=data_set.iloc[:,:19].values\n",
    "X"
   ]
  },
  {
   "cell_type": "code",
   "execution_count": null,
   "id": "7c80e89f",
   "metadata": {},
   "outputs": [],
   "source": [
    "Y=data_set['Churn'].values\n",
    "Y"
   ]
  },
  {
   "cell_type": "code",
   "execution_count": null,
   "id": "ded2d478",
   "metadata": {},
   "outputs": [],
   "source": [
    "X_train,X_test,Y_train,Y_test=train_test_split(X,Y,test_size=0.2,random_state=0)"
   ]
  },
  {
   "cell_type": "code",
   "execution_count": null,
   "id": "0ff5fab5",
   "metadata": {},
   "outputs": [],
   "source": [
    "X_test[:,0]"
   ]
  },
  {
   "cell_type": "markdown",
   "id": "f2020159",
   "metadata": {},
   "source": [
    "Utilizamos agora um ColumnTransforme par aplicar Standard Scaler e OneHotEncoder em certas colunas da base, já que o one hot vai eliminar a chance do modelo considerar que valores maiores em colunas categóricas teriam mais peso do que valores menores , e aplicamos StandarScaler para escalonar os dados pois muitos modelos trabalham melhores em dados escalonados com média 0 e variância 1"
   ]
  },
  {
   "cell_type": "code",
   "execution_count": null,
   "id": "fc497ad2",
   "metadata": {},
   "outputs": [],
   "source": [
    "column_transformer=ColumnTransformer(transformers=[('Onehot',OneHotEncoder(),[6,7,8,9,10,11,12,13,14,16]),('Scaler',StandardScaler(),[1,4,17,18])],remainder='passthrough')"
   ]
  },
  {
   "cell_type": "code",
   "execution_count": null,
   "id": "b0b52142",
   "metadata": {},
   "outputs": [],
   "source": [
    "label0=LabelEncoder()\n",
    "label2=LabelEncoder()\n",
    "label3=LabelEncoder()\n",
    "label5=LabelEncoder()\n",
    "label15=LabelEncoder()"
   ]
  },
  {
   "cell_type": "code",
   "execution_count": null,
   "id": "a973cfab",
   "metadata": {},
   "outputs": [],
   "source": [
    "X_train[:,0]=label0.fit_transform(X_train[:,0])\n",
    "X_train[:,2]=label2.fit_transform(X_train[:,2])\n",
    "X_train[:,3]=label3.fit_transform(X_train[:,3])\n",
    "X_train[:,5]=label5.fit_transform(X_train[:,5])\n",
    "X_train[:,15]=label15.fit_transform(X_train[:,15])\n",
    "X_test[:,0]=label0.transform(X_test[:,0])\n",
    "X_test[:,2]=label2.transform(X_test[:,2])\n",
    "X_test[:,3]=label3.transform(X_test[:,3])\n",
    "X_test[:,5]=label5.transform(X_test[:,5])\n",
    "X_test[:,15]=label15.transform(X_test[:,15])"
   ]
  },
  {
   "cell_type": "code",
   "execution_count": null,
   "id": "cad73c8f",
   "metadata": {},
   "outputs": [],
   "source": [
    "X_train=column_transformer.fit_transform(X_train)\n",
    "X_test=column_transformer.transform(X_test)"
   ]
  },
  {
   "cell_type": "code",
   "execution_count": null,
   "id": "b2f4d0f4",
   "metadata": {},
   "outputs": [],
   "source": [
    "label=LabelEncoder()"
   ]
  },
  {
   "cell_type": "code",
   "execution_count": null,
   "id": "d766d617",
   "metadata": {},
   "outputs": [],
   "source": [
    "Y_train=label.fit_transform(Y_train)\n",
    "Y_test=label.transform(Y_test)"
   ]
  },
  {
   "cell_type": "code",
   "execution_count": null,
   "id": "b3273cb7",
   "metadata": {},
   "outputs": [],
   "source": [
    "sm=SMOTEENN(random_state=0)"
   ]
  },
  {
   "cell_type": "code",
   "execution_count": null,
   "id": "9eb30686",
   "metadata": {},
   "outputs": [],
   "source": [
    "X_aux=X\n",
    "Y_aux=Y"
   ]
  },
  {
   "cell_type": "code",
   "execution_count": null,
   "id": "346d0d15",
   "metadata": {},
   "outputs": [],
   "source": [
    "X_aux[:,0]=label0.fit_transform(X_aux[:,0])\n",
    "X_aux[:,2]=label2.fit_transform(X_aux[:,2])\n",
    "X_aux[:,3]=label3.fit_transform(X_aux[:,3])\n",
    "X_aux[:,5]=label5.fit_transform(X_aux[:,5])\n",
    "X_aux[:,15]=label15.fit_transform(X_aux[:,15])"
   ]
  },
  {
   "cell_type": "code",
   "execution_count": null,
   "id": "50e00c84",
   "metadata": {},
   "outputs": [],
   "source": [
    "X_aux=column_transformer.transform(X_aux)\n",
    "Y_aux=label.transform(Y_aux)"
   ]
  },
  {
   "cell_type": "code",
   "execution_count": null,
   "id": "0152e036",
   "metadata": {},
   "outputs": [],
   "source": [
    "X_train_smoteen,Y_train_smoteen=sm.fit_resample(X_aux,Y_aux)"
   ]
  },
  {
   "cell_type": "code",
   "execution_count": null,
   "id": "51a44668",
   "metadata": {},
   "outputs": [],
   "source": [
    "X_train_over,X_test_over,Y_train_over,Y_test_over=train_test_split(X_train_smoteen,Y_train_smoteen,test_size=0.2,random_state=0)"
   ]
  },
  {
   "cell_type": "code",
   "execution_count": null,
   "id": "733b72bc",
   "metadata": {},
   "outputs": [],
   "source": [
    "fig=plt.figure(figsize=(10,8))\n",
    "sns.countplot(x=Y_train)\n",
    "fig.show()"
   ]
  },
  {
   "cell_type": "code",
   "execution_count": null,
   "id": "4d8dbd56",
   "metadata": {},
   "outputs": [],
   "source": [
    "fig=plt.figure(figsize=(10,8))\n",
    "sns.countplot(x=Y_train_over)\n",
    "fig.show()"
   ]
  },
  {
   "cell_type": "markdown",
   "id": "347e59d7",
   "metadata": {},
   "source": [
    "Treino e teste divididos tanto com base original e Smoteen"
   ]
  },
  {
   "cell_type": "markdown",
   "id": "316a07ec",
   "metadata": {},
   "source": [
    "Definindo os modelos a serem usados e suas parametrizações para serem testada pelo GridSearch"
   ]
  },
  {
   "cell_type": "code",
   "execution_count": null,
   "id": "b5d110fa",
   "metadata": {},
   "outputs": [],
   "source": [
    "modelos=[('RandomForest',RandomForestClassifier(random_state=42),{'model__n_estimators':[200,220,240],'model__max_depth':[10],'model__min_samples_split':[2,4,6],'model__min_samples_leaf':[1,3,5],'model__criterion':['gini','entropy','log_loss']}),\n",
    "        ('KNN',KNeighborsClassifier(),{'model__n_neighbors': [3, 5, 7],'model__weights': ['uniform', 'distance']}),\n",
    "        ('GradientBoosting',GradientBoostingClassifier(random_state=42),{'model__n_estimators': [200],'model__learning_rate': [0.01, 0.1]}),\n",
    "        ('DecisionTree',DecisionTreeClassifier(),{'model__criterion':['gini','entropy','log_loss'],'model__max_depth':[None, 10, 20],'model__splitter':['best','random']}),\n",
    "        ('SVC',SVC(random_state=0,class_weight='balanced'),{'model__C': [1,5,10],'model__gamma': ['scale', 'auto']}),\n",
    "        ('LogisticRegressor',LogisticRegression(random_state=42, class_weight='balanced'),{'model__C': [1,5,10],'model__penalty': ['l1','l2']}),\n",
    "        ('Ada Boost', AdaBoostClassifier(random_state=42),{'model__n_estimators': [100, 150, 200],'model__learning_rate': [0.05, 0.1, 0.5]}),  \n",
    "    ('XG Boost', XGBClassifier(random_state=42),\n",
    "        {'model__n_estimators': [100, 150, 200],\n",
    "         'model__learning_rate': [0.05, 0.1, 0.5]})\n",
    "        ]"
   ]
  },
  {
   "cell_type": "markdown",
   "id": "2c98916e",
   "metadata": {},
   "source": [
    "Fazendo o teste de parametrização com GridSearch e armazenando accuracy para cada modelo e as melhores parametrizações, como também o melhor modelo"
   ]
  },
  {
   "cell_type": "code",
   "execution_count": null,
   "id": "8732dfc4",
   "metadata": {},
   "outputs": [],
   "source": [
    "def Grid_search_test(modelos,X,Y):\n",
    "    melhores_params_models=[]\n",
    "    for name,model,params in modelos:\n",
    "        pipeline=Pipeline([('model',model)])\n",
    "        grid=GridSearchCV(estimator=pipeline,param_grid=params,verbose=2,n_jobs=-1)\n",
    "        grid.fit(X,Y)\n",
    "        pipeline=grid.best_estimator_\n",
    "        melhores_params_models.append({'Name':name,'Best Estimator':pipeline})\n",
    "    return melhores_params_models\n",
    "best_models_params=Grid_search_test(modelos,X_train,Y_train)\n",
    "best_models_params_smoteen=Grid_search_test(modelos,X_train_over,Y_train_over)\n"
   ]
  },
  {
   "cell_type": "code",
   "execution_count": null,
   "id": "b11716bc",
   "metadata": {},
   "outputs": [],
   "source": [
    "def test_models(best_models,X_test,Y_test):\n",
    "    models_scores=[]\n",
    "    for modelo in best_models:\n",
    "        previsao=modelo['Best Estimator'].predict(X_test)\n",
    "        accuracy=accuracy_score(Y_test,previsao)\n",
    "        models_scores.append({'Accuracy':accuracy,'Name':modelo['Name']})\n",
    "    return models_scores\n",
    "model_score=test_models(best_models_params,X_test,Y_test)\n",
    "model_score_smoteen=test_models(best_models_params_smoteen,X_test_over,Y_test_over)"
   ]
  },
  {
   "cell_type": "code",
   "execution_count": null,
   "id": "883ac568",
   "metadata": {},
   "outputs": [],
   "source": [
    "def plot(model_scores):\n",
    "    fig=plt.figure(figsize=(10,5))\n",
    "    ax=sns.barplot(data=pd.DataFrame(model_scores),hue='Name',y='Accuracy',palette='pastel',legend=True)\n",
    "    for p in ax.patches:\n",
    "        ax.text(p.get_x() + p.get_width()/2, p.get_height() + 0.01, \n",
    "                f\"{p.get_height():.2%}\", ha='center')\n",
    "    plt.title(\"Acurácia dos modelos\")\n",
    "    plt.ylabel(\"Acurácia\")\n",
    "    plt.ylim(0, 1)\n",
    "    plt.tight_layout()\n",
    "    plt.show()"
   ]
  },
  {
   "cell_type": "code",
   "execution_count": null,
   "id": "9011e4bb",
   "metadata": {},
   "outputs": [],
   "source": [
    "plot(model_score)"
   ]
  },
  {
   "cell_type": "code",
   "execution_count": null,
   "id": "bfb5b0d4",
   "metadata": {},
   "outputs": [],
   "source": [
    "plot(model_score_smoteen)"
   ]
  },
  {
   "cell_type": "markdown",
   "id": "1ac2d4e8",
   "metadata": {},
   "source": [
    "Os model scores com smoteen geraram resultados muito melhores , logo mandamos os modelos para a pasta model com joblib dump"
   ]
  },
  {
   "cell_type": "code",
   "execution_count": null,
   "id": "de35534e",
   "metadata": {},
   "outputs": [],
   "source": [
    "\n",
    "for modelo in best_models_params_smoteen:\n",
    "    joblib.dump(modelo['Best Estimator'],f\"models/{modelo['Name']}\")"
   ]
  },
  {
   "cell_type": "markdown",
   "id": "f077d380",
   "metadata": {},
   "source": [
    "Com os modelos todos na pasta models podemos então dar load neles para fazer o KFold entre eles"
   ]
  },
  {
   "cell_type": "code",
   "execution_count": null,
   "id": "a30b1566",
   "metadata": {},
   "outputs": [],
   "source": [
    "resultados_KNN=[]\n",
    "resultados_Logisticregressor=[]\n",
    "resultados_Decisiontree=[]\n",
    "resultados_Randomforest=[]\n",
    "resultados_SVC=[]\n",
    "resultados_GradientBoosting=[]\n",
    "resultados_AdaBoost=[]\n",
    "resultados_XGBoost=[]\n",
    "for i in range(30):\n",
    "    k_fold=KFold(n_splits=10,random_state=i,shuffle=True)\n",
    "    knn=joblib.load('models/KNN')\n",
    "    lor=joblib.load('models/LogisticRegressor')\n",
    "    dectree=joblib.load('models/DecisionTree')\n",
    "    ranfor=joblib.load('models/RandomForest')\n",
    "    svc=joblib.load('models/SVC')\n",
    "    gb=joblib.load('models/GradientBoosting')\n",
    "    ada=joblib.load('models/Ada Boost')\n",
    "    xgb=joblib.load('models/XG Boost')\n",
    "    score_knn=cross_val_score(knn,X_train_over,Y_train_over,cv=k_fold)\n",
    "    score_lor=cross_val_score(lor,X_train_over,Y_train_over,cv=k_fold)\n",
    "    score_dectree=cross_val_score(dectree,X_train_over,Y_train_over,cv=k_fold)\n",
    "    score_ranfor=cross_val_score(ranfor,X_train_over,Y_train_over,cv=k_fold)\n",
    "    score_svc=cross_val_score(svc,X_train_over,Y_train_over,cv=k_fold)\n",
    "    score_gb=cross_val_score(gb,X_train_over,Y_train_over,cv=k_fold)\n",
    "    score_ada=cross_val_score(ada,X_train_over,Y_train_over,cv=k_fold)\n",
    "    score_xgb=cross_val_score(xgb,X_train_over,Y_train_over,cv=k_fold)\n",
    "    resultados_KNN.append(score_knn.mean())\n",
    "    resultados_Logisticregressor.append(score_lor.mean())\n",
    "    resultados_Decisiontree.append(score_dectree.mean())\n",
    "    resultados_Randomforest.append(score_ranfor.mean())\n",
    "    resultados_SVC.append(score_svc.mean())\n",
    "    resultados_GradientBoosting.append(score_gb.mean())\n",
    "    resultados_AdaBoost.append(score_ada.mean())\n",
    "    resultados_XGBoost.append(score_xgb.mean())\n",
    "    print(i)"
   ]
  },
  {
   "cell_type": "code",
   "execution_count": null,
   "id": "570cd753",
   "metadata": {},
   "outputs": [],
   "source": [
    "lista=['KNN','Logistic','Decision','Random','SVC','Gradient','Ada','XGBoost']"
   ]
  },
  {
   "cell_type": "code",
   "execution_count": null,
   "id": "8125c8ce",
   "metadata": {},
   "outputs": [],
   "source": [
    "resultados_concatenados=[resultados_KNN,resultados_Logisticregressor,resultados_Decisiontree,resultados_Randomforest,resultados_SVC,resultados_GradientBoosting,resultados_AdaBoost,resultados_XGBoost]\n",
    "resultados_dict=[]"
   ]
  },
  {
   "cell_type": "code",
   "execution_count": null,
   "id": "f5676da8",
   "metadata": {},
   "outputs": [],
   "source": [
    "cont=0\n",
    "pos=0\n",
    "for i in range(0,240):\n",
    "    if pos==30:\n",
    "        pos=0\n",
    "    if i%30==0 and i!=0:\n",
    "        cont+=1\n",
    "    resultados_dict.append({'Accuracy':resultados_concatenados[cont][pos],'Modelo':lista[cont]})\n",
    "    pos+=1\n",
    "    "
   ]
  },
  {
   "cell_type": "code",
   "execution_count": null,
   "id": "f62879c6",
   "metadata": {},
   "outputs": [],
   "source": [
    "data_resultados=pd.DataFrame(data=resultados_dict)"
   ]
  },
  {
   "cell_type": "code",
   "execution_count": null,
   "id": "7929c2fa",
   "metadata": {},
   "outputs": [],
   "source": [
    "multi_comparison=MultiComparison(data_resultados['Accuracy'],data_resultados['Modelo'])"
   ]
  },
  {
   "cell_type": "markdown",
   "id": "2d7c9f65",
   "metadata": {},
   "source": [
    "Aqui pegamos os modelos e os colocamos na função de plot simultaneous do MultiComparison utilizando Tukeyhsd"
   ]
  },
  {
   "cell_type": "code",
   "execution_count": null,
   "id": "73c34e48",
   "metadata": {},
   "outputs": [],
   "source": [
    "multi_comparison.tukeyhsd().plot_simultaneous()"
   ]
  },
  {
   "cell_type": "markdown",
   "id": "979b626d",
   "metadata": {},
   "source": [
    "Com os modelos ja carregados podemos ver os gráficos sem ter de rodar o GridSearch"
   ]
  },
  {
   "cell_type": "code",
   "execution_count": null,
   "id": "28249f7e",
   "metadata": {},
   "outputs": [],
   "source": [
    "knn=joblib.load('models/KNN')\n",
    "lor=joblib.load('models/LogisticRegressor')\n",
    "dectree=joblib.load('models/DecisionTree')\n",
    "ranfor=joblib.load('models/RandomForest')\n",
    "svc=joblib.load('models/SVC')\n",
    "gb=joblib.load('models/GradientBoosting')\n",
    "ada=joblib.load('models/Ada Boost')\n",
    "xgb=joblib.load('models/XG Boost')"
   ]
  },
  {
   "cell_type": "code",
   "execution_count": null,
   "id": "bded3fd8",
   "metadata": {},
   "outputs": [],
   "source": [
    "lista=['Random Forest','KNN','GradientBoost','Decision Tree','SVC','Logistic Regressor','Ada Boost','XGBoost']"
   ]
  },
  {
   "cell_type": "code",
   "execution_count": null,
   "id": "3aa767bf",
   "metadata": {},
   "outputs": [],
   "source": [
    "modelos_para_fit=[ranfor,knn,gb,dectree,svc,lor,ada,xgb]"
   ]
  },
  {
   "cell_type": "code",
   "execution_count": null,
   "id": "ed683a3f",
   "metadata": {},
   "outputs": [],
   "source": [
    "model_score_sem_grid=[]\n",
    "model_score_sem_grid_smoteen=[]\n",
    "def modelo_accuracy(modelo,nome,X,Y):\n",
    "    previsao=modelo.predict(X)\n",
    "    accuracy=accuracy_score(Y,previsao)\n",
    "    return {'Name':nome,'Accuracy':accuracy}\n",
    "for i in range(0,len(modelos_para_fit)):\n",
    "    model_score_sem_grid.append(modelo_accuracy(modelos_para_fit[i],lista[i],X_test,Y_test))\n",
    "    model_score_sem_grid_smoteen.append(modelo_accuracy(modelos_para_fit[i],lista[i],X_test_over,Y_test_over))\n"
   ]
  },
  {
   "cell_type": "code",
   "execution_count": null,
   "id": "b3311f89",
   "metadata": {},
   "outputs": [],
   "source": [
    "plot(model_score_sem_grid)"
   ]
  },
  {
   "cell_type": "code",
   "execution_count": null,
   "id": "6bfc7a44",
   "metadata": {},
   "outputs": [],
   "source": [
    "plot(model_score_sem_grid_smoteen)"
   ]
  },
  {
   "cell_type": "markdown",
   "id": "770a23fc",
   "metadata": {},
   "source": [
    "No final pode ser visto que o melhor modelo é o KNN que ficou a frente dos outros 7 modelos , com média de aproximadamente 96% de accuracy nos teste em KFold,liderando no gráfico do Multicomparison e no gráfico geral dos modelos quando testando sobre a base smoteen"
   ]
  },
  {
   "cell_type": "markdown",
   "id": "c5fac60f",
   "metadata": {},
   "source": [
    "O KNN se sobresaiu pois pelo visto modelos como o SVC não conseguiram se adaptar tanto a base de dados ( na qual o SVC tenta traçar uma reta, plano e outros modelos matemáticos para se adaptar a um problema), e também modelos que utilizam de árvore(Random forest, decision tree ,Gradient Boosting ,Ada e XGBoost ) não geraram uma adaptação boa para meio que traçar uma sequencia de regras para chegar ao target correto, e o Logistic Regressor não conseguiu se adaptar de forma linear ao problema e assim o KNN foi melhor pelo fato dos dados conseguirem ser mais bem adaptados a um modelo que preve atraveś de calculos de distância."
   ]
  },
  {
   "cell_type": "code",
   "execution_count": null,
   "id": "9c675589",
   "metadata": {},
   "outputs": [],
   "source": [
    "tabela=[]\n",
    "for i,model in zip(range(0,len(lista)),modelos_para_fit):\n",
    "    previsao=model.predict(X_test_over)\n",
    "    tabela.append({'Nome':lista[i],'Accuracy':accuracy_score(Y_test_over,previsao),'MAE':mean_absolute_error(Y_test_over,previsao),'MSE':mean_squared_error(Y_test_over,previsao),'RMSE':pow(mean_squared_error(Y_test_over,previsao),0.5)})\n"
   ]
  },
  {
   "cell_type": "code",
   "execution_count": null,
   "id": "39c29e34",
   "metadata": {},
   "outputs": [],
   "source": [
    "tabela_df=pd.DataFrame(data=tabela)"
   ]
  },
  {
   "cell_type": "code",
   "execution_count": null,
   "id": "415a5eee",
   "metadata": {},
   "outputs": [],
   "source": [
    "tabela_df"
   ]
  },
  {
   "cell_type": "markdown",
   "id": "de9fdfd9",
   "metadata": {},
   "source": [
    "Como é visto pela tabela o KNN merece o lugar de ser o melhor algoritmo para prever Churn com essa base de dados com Smoteen,que balanceia os dados quanto ao target de forma que aplica oversampling e retira targets que são de uma classe mas estão muito próximos de outros de outra classe. "
   ]
  },
  {
   "cell_type": "code",
   "execution_count": null,
   "id": "b2931e06",
   "metadata": {},
   "outputs": [],
   "source": [
    "knn=best_models_params[1]['Best Estimator']"
   ]
  },
  {
   "cell_type": "code",
   "execution_count": null,
   "id": "cb3a8f7d",
   "metadata": {},
   "outputs": [],
   "source": [
    "knn"
   ]
  },
  {
   "cell_type": "code",
   "execution_count": null,
   "id": "6aea0947",
   "metadata": {},
   "outputs": [],
   "source": [
    "cm=ConfusionMatrix(knn)\n",
    "cm.fit(X_train,Y_train)\n",
    "cm.score(X_test,Y_test)"
   ]
  },
  {
   "cell_type": "code",
   "execution_count": null,
   "id": "deba1268",
   "metadata": {},
   "outputs": [],
   "source": [
    "cm=ConfusionMatrix(knn)\n",
    "cm.fit(X_train,Y_train)\n",
    "cm.score(X_test_over,Y_test_over)"
   ]
  },
  {
   "cell_type": "code",
   "execution_count": null,
   "id": "2115a50c",
   "metadata": {},
   "outputs": [],
   "source": [
    "knn_smoteen=best_models_params_smoteen[1]['Best Estimator']"
   ]
  },
  {
   "cell_type": "code",
   "execution_count": null,
   "id": "dadc2d3e",
   "metadata": {},
   "outputs": [],
   "source": [
    "knn_smoteen"
   ]
  },
  {
   "cell_type": "code",
   "execution_count": null,
   "id": "85d0957e",
   "metadata": {},
   "outputs": [],
   "source": [
    "cm_smoteen=ConfusionMatrix(knn_smoteen)\n",
    "cm_smoteen.fit(X_train_over,Y_train_over)\n",
    "cm_smoteen.score(X_test_over,Y_test_over)"
   ]
  },
  {
   "cell_type": "code",
   "execution_count": null,
   "id": "80a4b8e6",
   "metadata": {},
   "outputs": [],
   "source": [
    "cm_smoteen=ConfusionMatrix(knn_smoteen)\n",
    "cm_smoteen.fit(X_train_over,Y_train_over)\n",
    "cm_smoteen.score(X_test,Y_test)"
   ]
  },
  {
   "cell_type": "code",
   "execution_count": null,
   "id": "27cd7e49",
   "metadata": {},
   "outputs": [],
   "source": [
    "print(classification_report(Y_test,knn.predict(X_test)))"
   ]
  },
  {
   "cell_type": "code",
   "execution_count": null,
   "id": "c4761d4f",
   "metadata": {},
   "outputs": [],
   "source": [
    "print(classification_report(Y_test,knn_smoteen.predict(X_test)))"
   ]
  },
  {
   "cell_type": "markdown",
   "id": "44733bfb",
   "metadata": {},
   "source": [
    "Como devemos comparar para mesmos teste pegamos então o knn que foi feito o fit com X e Y normais e outro knn que foi feito o fit com X e Y over, logo testando eles sobre Y_test vemos que no caso de predição de churn o modelo treinado com smoteen obteve resultado melhores para identificar a classe 1 já que os registros que eram 1 ele acertou 93%(recall)  , mesmo que dos que ele classificou como 1 ter acertado somente 48%(precisão) ele ainda obteve um modelo bem melhor do que o treinado com X_test e Y_test pois para churn obteve 54% que é 39% a menos do modelo com smoteen e precisão só 7% a mais do que o smoteen , assim não compensando o ganho de precisão visto que o recall é muito menor para a classe que é o objetivo da predição e que daria mais prejuízo se passasse despercebida."
   ]
  }
 ],
 "metadata": {
  "kernelspec": {
   "display_name": "datascience",
   "language": "python",
   "name": "python3"
  },
  "language_info": {
   "codemirror_mode": {
    "name": "ipython",
    "version": 3
   },
   "file_extension": ".py",
   "mimetype": "text/x-python",
   "name": "python",
   "nbconvert_exporter": "python",
   "pygments_lexer": "ipython3",
   "version": "3.11.9"
  }
 },
 "nbformat": 4,
 "nbformat_minor": 5
}
